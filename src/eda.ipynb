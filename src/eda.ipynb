{
 "cells": [
  {
   "cell_type": "code",
   "execution_count": 1,
   "metadata": {},
   "outputs": [
    {
     "name": "stderr",
     "output_type": "stream",
     "text": [
      "[nltk_data] Downloading package stopwords to\n",
      "[nltk_data]     C:\\Users\\Dell\\AppData\\Roaming\\nltk_data...\n",
      "[nltk_data]   Package stopwords is already up-to-date!\n",
      "[nltk_data] Downloading package punkt to\n",
      "[nltk_data]     C:\\Users\\Dell\\AppData\\Roaming\\nltk_data...\n",
      "[nltk_data]   Package punkt is already up-to-date!\n"
     ]
    },
    {
     "data": {
      "text/plain": [
       "True"
      ]
     },
     "execution_count": 1,
     "metadata": {},
     "output_type": "execute_result"
    }
   ],
   "source": [
    "import pandas as pd\n",
    "import numpy as np\n",
    "import matplotlib.pyplot as plt\n",
    "import seaborn as sns\n",
    "from wordcloud import WordCloud\n",
    "from nltk.corpus import stopwords\n",
    "from collections import Counter\n",
    "import re\n",
    "import nltk\n",
    "\n",
    "# Download necessary nltk resources if not already installed\n",
    "nltk.download('stopwords')\n",
    "nltk.download('punkt')\n"
   ]
  },
  {
   "cell_type": "code",
   "execution_count": 2,
   "metadata": {},
   "outputs": [
    {
     "name": "stderr",
     "output_type": "stream",
     "text": [
      "<>:1: SyntaxWarning: invalid escape sequence '\\s'\n",
      "<>:1: SyntaxWarning: invalid escape sequence '\\s'\n",
      "C:\\Users\\Dell\\AppData\\Local\\Temp\\ipykernel_12356\\1488989861.py:1: SyntaxWarning: invalid escape sequence '\\s'\n",
      "  df = pd.read_csv(\"E:\\sentiment_ML_PROJECT\\data\\processed\\cleaned_data.csv\")\n"
     ]
    }
   ],
   "source": [
    "df = pd.read_csv(\"E:\\sentiment_ML_PROJECT\\data\\processed\\cleaned_data.csv\")"
   ]
  },
  {
   "cell_type": "code",
   "execution_count": 3,
   "metadata": {},
   "outputs": [
    {
     "name": "stdout",
     "output_type": "stream",
     "text": [
      "                                        cleaned_text  sentiment\n",
      "0      thats bummer shoulda got david carr third day          0\n",
      "1  upset cant update facebook texting might cry r...          0\n",
      "2    dived many time ball managed save rest go bound          0\n",
      "3                    whole body feel itchy like fire          0\n",
      "4                           behaving im mad cant see          0\n"
     ]
    }
   ],
   "source": [
    "print(df.head())"
   ]
  },
  {
   "cell_type": "code",
   "execution_count": 4,
   "metadata": {},
   "outputs": [
    {
     "name": "stdout",
     "output_type": "stream",
     "text": [
      "Dataset Shape: (1600000, 2)\n",
      "<class 'pandas.core.frame.DataFrame'>\n",
      "RangeIndex: 1600000 entries, 0 to 1599999\n",
      "Data columns (total 2 columns):\n",
      " #   Column        Non-Null Count    Dtype \n",
      "---  ------        --------------    ----- \n",
      " 0   cleaned_text  1592290 non-null  object\n",
      " 1   sentiment     1600000 non-null  int64 \n",
      "dtypes: int64(1), object(1)\n",
      "memory usage: 24.4+ MB\n",
      "       sentiment\n",
      "count  1600000.0\n",
      "mean         0.5\n",
      "std          0.5\n",
      "min          0.0\n",
      "25%          0.0\n",
      "50%          0.5\n",
      "75%          1.0\n",
      "max          1.0\n",
      "Missing Values: cleaned_text    7710\n",
      "sentiment          0\n",
      "dtype: int64\n",
      "Duplicate Rows: 114457\n",
      "Sentiment Distribution:\n",
      "sentiment\n",
      "0    800000\n",
      "1    800000\n",
      "Name: count, dtype: int64\n"
     ]
    }
   ],
   "source": [
    "print(\"Dataset Shape:\", df.shape)\n",
    "df.info()\n",
    "print(df.describe())\n",
    "print(\"Missing Values:\", df.isnull().sum())\n",
    "print(\"Duplicate Rows:\", df.duplicated().sum())\n",
    "print(\"Sentiment Distribution:\")\n",
    "print(df['sentiment'].value_counts())"
   ]
  },
  {
   "cell_type": "code",
   "execution_count": 5,
   "metadata": {},
   "outputs": [
    {
     "name": "stderr",
     "output_type": "stream",
     "text": [
      "C:\\Users\\Dell\\AppData\\Local\\Temp\\ipykernel_12356\\2395864251.py:6: FutureWarning: \n",
      "\n",
      "Passing `palette` without assigning `hue` is deprecated and will be removed in v0.14.0. Assign the `x` variable to `hue` and set `legend=False` for the same effect.\n",
      "\n",
      "  sns.countplot(x='sentiment', data=df, palette='coolwarm')\n"
     ]
    },
    {
     "data": {
      "image/png": "[encoded data removed]",
      "text/plain": [
       "<Figure size 800x600 with 1 Axes>"
      ]
     },
     "metadata": {},
     "output_type": "display_data"
    }
   ],
   "source": [
    "# Set plot style\n",
    "sns.set(style=\"whitegrid\")\n",
    "\n",
    "# Plot the distribution of sentiment\n",
    "plt.figure(figsize=(8, 6))\n",
    "sns.countplot(x='sentiment', data=df, palette='coolwarm')\n",
    "plt.title('Sentiment Distribution (0: Negative, 1: Positive)', fontsize=16)\n",
    "plt.xlabel('Sentiment', fontsize=12)\n",
    "plt.ylabel('Count', fontsize=12)\n",
    "plt.show()\n"
   ]
  },
  {
   "cell_type": "code",
   "execution_count": 6,
   "metadata": {},
   "outputs": [
    {
     "name": "stdout",
     "output_type": "stream",
     "text": [
      "['C:\\\\Users\\\\Dell/nltk_data', 'e:\\\\sentiment_ML_PROJECT\\\\sentiment_ml\\\\nltk_data', 'e:\\\\sentiment_ML_PROJECT\\\\sentiment_ml\\\\share\\\\nltk_data', 'e:\\\\sentiment_ML_PROJECT\\\\sentiment_ml\\\\lib\\\\nltk_data', 'C:\\\\Users\\\\Dell\\\\AppData\\\\Roaming\\\\nltk_data', 'C:\\\\nltk_data', 'D:\\\\nltk_data', 'E:\\\\nltk_data']\n"
     ]
    }
   ],
   "source": [
    "import nltk\n",
    "print(nltk.data.path)\n"
   ]
  },
  {
   "cell_type": "code",
   "execution_count": 7,
   "metadata": {},
   "outputs": [
    {
     "name": "stderr",
     "output_type": "stream",
     "text": [
      "<>:1: SyntaxWarning: invalid escape sequence '\\s'\n",
      "<>:1: SyntaxWarning: invalid escape sequence '\\s'\n",
      "C:\\Users\\Dell\\AppData\\Local\\Temp\\ipykernel_12356\\1036638810.py:1: SyntaxWarning: invalid escape sequence '\\s'\n",
      "  nltk.data.path.append(\"E:\\sentiment_ML_PROJECT\\data\\nltk_data\")\n"
     ]
    }
   ],
   "source": [
    "nltk.data.path.append(\"E:\\sentiment_ML_PROJECT\\data\\nltk_data\")\n"
   ]
  },
  {
   "cell_type": "code",
   "execution_count": 8,
   "metadata": {},
   "outputs": [
    {
     "name": "stdout",
     "output_type": "stream",
     "text": [
      "C:\\Users\\Dell\\AppData\\Roaming\\nltk_data\\tokenizers\\punkt\n"
     ]
    }
   ],
   "source": [
    "print(nltk.data.find('tokenizers/punkt'))"
   ]
  },
  {
   "cell_type": "code",
   "execution_count": 9,
   "metadata": {},
   "outputs": [
    {
     "name": "stderr",
     "output_type": "stream",
     "text": [
      "<>:1: SyntaxWarning: invalid escape sequence '\\s'\n",
      "<>:1: SyntaxWarning: invalid escape sequence '\\s'\n",
      "C:\\Users\\Dell\\AppData\\Local\\Temp\\ipykernel_12356\\2719659974.py:1: SyntaxWarning: invalid escape sequence '\\s'\n",
      "  nltk.data.path.append(\"E:\\sentiment_ML_PROJECT\\data\\nltk_data\")\n"
     ]
    }
   ],
   "source": [
    "nltk.data.path.append(\"E:\\sentiment_ML_PROJECT\\data\\nltk_data\")"
   ]
  },
  {
   "cell_type": "code",
   "execution_count": 17,
   "metadata": {},
   "outputs": [
    {
     "name": "stdout",
     "output_type": "stream",
     "text": [
      "   sentiment                                       cleaned_text\n",
      "0          0      thats bummer shoulda got david carr third day\n",
      "1          0  upset cant update facebook texting might cry r...\n",
      "2          0    dived many time ball managed save rest go bound\n",
      "3          0                    whole body feel itchy like fire\n",
      "4          0                           behaving im mad cant see\n",
      "5          0                                         whole crew\n",
      "6          0                                           need hug\n",
      "7          0  hey long time see yes rain bit bit lol im fine...\n",
      "8          0                                         nope didnt\n",
      "9          0                                          que muera\n"
     ]
    }
   ],
   "source": [
    "print(df[['sentiment', 'cleaned_text']].head(10))"
   ]
  },
  {
   "cell_type": "code",
   "execution_count": 19,
   "metadata": {},
   "outputs": [],
   "source": [
    "def plot_wordcloud(data, sentiment, output_path):\n",
    "    # Ensure all text values are strings and handle NaN\n",
    "    data['cleaned_text'] = data['cleaned_text'].fillna('').astype(str)\n",
    "    \n",
    "    # Concatenate all text entries for the specified sentiment\n",
    "    text = \" \".join(data[data['sentiment'] == sentiment]['cleaned_text'])\n",
    "    \n",
    "    # Generate the word cloud\n",
    "    wordcloud = WordCloud(width=800, height=400, background_color=\"white\").generate(text)\n",
    "    \n",
    "    # Plot and save the word cloud\n",
    "    plt.figure(figsize=(10, 5))\n",
    "    plt.imshow(wordcloud, interpolation='bilinear')\n",
    "    plt.axis(\"off\")\n",
    "    plt.savefig(output_path)\n",
    "    plt.close()\n",
    "\n",
    "\n"
   ]
  },
  {
   "cell_type": "code",
   "execution_count": 21,
   "metadata": {},
   "outputs": [
    {
     "name": "stderr",
     "output_type": "stream",
     "text": [
      "<>:3: SyntaxWarning: invalid escape sequence '\\s'\n",
      "<>:4: SyntaxWarning: invalid escape sequence '\\s'\n",
      "<>:3: SyntaxWarning: invalid escape sequence '\\s'\n",
      "<>:4: SyntaxWarning: invalid escape sequence '\\s'\n",
      "C:\\Users\\Dell\\AppData\\Local\\Temp\\ipykernel_12356\\3184685841.py:3: SyntaxWarning: invalid escape sequence '\\s'\n",
      "  plot_wordcloud(df, sentiment=1, output_path=\"E:\\sentiment_ML_PROJECT/reports/result/positive_wordcloud.png\")\n",
      "C:\\Users\\Dell\\AppData\\Local\\Temp\\ipykernel_12356\\3184685841.py:4: SyntaxWarning: invalid escape sequence '\\s'\n",
      "  plot_wordcloud(df, sentiment=0, output_path=\"E:\\sentiment_ML_PROJECT/reports/result/negative_wordcloud.png\")\n"
     ]
    }
   ],
   "source": [
    "if __name__ == \"__main__\":\n",
    "    \n",
    "    plot_wordcloud(df, sentiment=1, output_path=\"E:/sentiment_ML_PROJECT/reports/result/positive_wordcloud.png\")\n",
    "    plot_wordcloud(df, sentiment=0, output_path=\"E:/sentiment_ML_PROJECT/reports/result/negative_wordcloud.png\")\n"
   ]
  },
  {
   "cell_type": "code",
   "execution_count": null,
   "metadata": {},
   "outputs": [],
   "source": []
  }
 ],
 "metadata": {
  "kernelspec": {
   "display_name": "sentiment_ml",
   "language": "python",
   "name": "python3"
  },
  "language_info": {
   "codemirror_mode": {
    "name": "ipython",
    "version": 3
   },
   "file_extension": ".py",
   "mimetype": "text/x-python",
   "name": "python",
   "nbconvert_exporter": "python",
   "pygments_lexer": "ipython3",
   "version": "3.12.8"
  }
 },
 "nbformat": 4,
 "nbformat_minor": 2
}
