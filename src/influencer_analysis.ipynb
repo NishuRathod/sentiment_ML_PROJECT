{
 "cells": [
  {
   "cell_type": "code",
   "execution_count": 1,
   "metadata": {},
   "outputs": [],
   "source": [
    "import pandas as pd"
   ]
  },
  {
   "cell_type": "code",
   "execution_count": 7,
   "metadata": {},
   "outputs": [
    {
     "name": "stderr",
     "output_type": "stream",
     "text": [
      "<>:1: SyntaxWarning: invalid escape sequence '\\s'\n",
      "<>:1: SyntaxWarning: invalid escape sequence '\\s'\n",
      "C:\\Users\\Dell\\AppData\\Local\\Temp\\ipykernel_5612\\874698525.py:1: SyntaxWarning: invalid escape sequence '\\s'\n",
      "  df = pd.read_csv(\"E:\\sentiment_ML_PROJECT\\data\\processed\\cleaned_data.csv\",header=None, names=['cleaned_text', 'sentiment'])\n",
      "C:\\Users\\Dell\\AppData\\Local\\Temp\\ipykernel_5612\\874698525.py:1: DtypeWarning: Columns (1) have mixed types. Specify dtype option on import or set low_memory=False.\n",
      "  df = pd.read_csv(\"E:\\sentiment_ML_PROJECT\\data\\processed\\cleaned_data.csv\",header=None, names=['cleaned_text', 'sentiment'])\n"
     ]
    }
   ],
   "source": [
    "df = pd.read_csv(\"E:\\sentiment_ML_PROJECT\\data\\processed\\cleaned_data.csv\",header=None, names=['cleaned_text', 'sentiment'])"
   ]
  },
  {
   "cell_type": "code",
   "execution_count": 8,
   "metadata": {},
   "outputs": [
    {
     "name": "stdout",
     "output_type": "stream",
     "text": [
      "                                        cleaned_text  sentiment\n",
      "0                                       cleaned_text  sentiment\n",
      "1      thats bummer shoulda got david carr third day          0\n",
      "2  upset cant update facebook texting might cry r...          0\n",
      "3    dived many time ball managed save rest go bound          0\n",
      "4                    whole body feel itchy like fire          0\n",
      "Expected 6 columns, but found 2\n"
     ]
    }
   ],
   "source": [
    "\n",
    "\n",
    "def top_influencers():\n",
    "    \n",
    "    print(df.head())\n",
    "\n",
    "    if df.shape[1] == 6:\n",
    "        df.columns = ['target', 'id', 'date', 'query', 'user', 'text']\n",
    "    else:\n",
    "        print(f\"Expected 6 columns, but found {df.shape[1]}\")\n",
    "        return\n",
    "\n",
    "    top_users = df.groupby('user').size().sort_values(ascending=False).head(10)\n",
    "    print(\"Top Influencers:\\n\", top_users)\n",
    "\n",
    "if __name__ == \"__main__\":\n",
    "    top_influencers()\n"
   ]
  },
  {
   "cell_type": "code",
   "execution_count": 9,
   "metadata": {},
   "outputs": [
    {
     "name": "stdout",
     "output_type": "stream",
     "text": [
      "                                        cleaned_text  sentiment\n",
      "0                                       cleaned_text  sentiment\n",
      "1      thats bummer shoulda got david carr third day          0\n",
      "2  upset cant update facebook texting might cry r...          0\n",
      "3    dived many time ball managed save rest go bound          0\n",
      "4                    whole body feel itchy like fire          0\n",
      "Top Sentiment Counts:\n",
      " sentiment\n",
      "1            800000\n",
      "0            537857\n",
      "0            262143\n",
      "sentiment         1\n",
      "dtype: int64\n"
     ]
    }
   ],
   "source": [
    "import pandas as pd\n",
    "\n",
    "def top_influencers():\n",
    "   \n",
    "    top_users = df.groupby('sentiment').size().sort_values(ascending=False)\n",
    "    print(\"Top Sentiment Counts:\\n\", top_users)\n",
    "\n",
    "if __name__ == \"__main__\":\n",
    "    top_influencers()\n"
   ]
  }
 ],
 "metadata": {
  "kernelspec": {
   "display_name": "sentiment_ml",
   "language": "python",
   "name": "python3"
  },
  "language_info": {
   "codemirror_mode": {
    "name": "ipython",
    "version": 3
   },
   "file_extension": ".py",
   "mimetype": "text/x-python",
   "name": "python",
   "nbconvert_exporter": "python",
   "pygments_lexer": "ipython3",
   "version": "3.12.8"
  }
 },
 "nbformat": 4,
 "nbformat_minor": 2
}
